{
 "cells": [
  {
   "cell_type": "markdown",
   "metadata": {},
   "source": [
    "https://www.kaggle.com/romulomadu/minimizing-total-cost-result-9020-00/data"
   ]
  },
  {
   "cell_type": "code",
   "execution_count": 1,
   "metadata": {},
   "outputs": [],
   "source": [
    "import pandas as pd\n",
    "import numpy as np\n",
    "import matplotlib.pyplot as plt\n",
    "import seaborn as sns\n",
    "import warnings\n",
    "from IPython.display import display, Markdown\n",
    "\n",
    "from sklearn.feature_selection import SelectKBest, chi2, mutual_info_classif\n",
    "from sklearn.preprocessing import MinMaxScaler\n",
    "from sklearn.decomposition import PCA\n",
    "from sklearn.ensemble import GradientBoostingClassifier, RandomForestClassifier, RandomForestRegressor\n",
    "from sklearn.model_selection import cross_val_score, GridSearchCV\n",
    "from sklearn.metrics import classification_report, confusion_matrix\n",
    "from sklearn import svm\n",
    "\n",
    "import scipy.cluster.hierarchy as hac\n",
    "\n",
    "%matplotlib inline\n",
    "%config IPCompleter.greedy=True\n",
    "warnings.filterwarnings('ignore')"
   ]
  },
  {
   "cell_type": "code",
   "execution_count": 2,
   "metadata": {},
   "outputs": [],
   "source": [
    "# Set normalization\n",
    "enable_normalization = True\n",
    "normalization_type = 'minmax' # 'minmax' or 'standard'\n",
    "\n",
    "# Exploratory analysis\n",
    "\n",
    "# Set correlation\n",
    "enable_correlation = False\n",
    "enable_dendrogram = False\n",
    "enable_heatmap = False\n",
    "\n",
    "# Features Selection\n",
    "\n",
    "# Set features selection with correlation criteria\n",
    "enable_correlation_selec = False\n",
    "factor = 0.95 # number close to 1\n",
    "\n",
    "# Set features selection with univariate statitics test criteria\n",
    "enable_univariate_selec = True\n",
    "method_selec = 'selectkbest' # 'selectkbest', 'pca', ...\n",
    "pca_variance = 0.95 \n",
    "criteria_k_best = mutual_info_classif # chi2, mutual_info_classif\n",
    "k_best = 84 # number of best features to select on select k best.\n",
    "\n",
    "# Balancing\n",
    "\n",
    "# Train balancing\n",
    "enable_balancing = True\n",
    "number_samples = 2500\n",
    "\n",
    "# Machine learning method\n",
    "\n",
    "ml_method = 'randomforestreg' # 'gradientboosting', 'svm', ...\n",
    "gbc_loss = 'deviance' # gradient boosting loss\n",
    "rfc_criterion = 'gini' # random forest criterion\n",
    "enable_cv = True # enable cross-validation"
   ]
  },
  {
   "cell_type": "code",
   "execution_count": 3,
   "metadata": {},
   "outputs": [],
   "source": [
    "# Print the bar graph from data\n",
    "def bar(acumm_data):\n",
    "    # Do plot\n",
    "    fig = plt.figure(figsize=(10,7))\n",
    "    ax = fig.add_subplot(111)\n",
    "    ax = sns.barplot(x=acumm_data.index, y=acumm_data.values, palette='tab20b', ax=ax)\n",
    "    ax.set_xticklabels(ax.get_xticklabels(), rotation=90)    \n",
    "    return ax\n",
    "\n",
    "def dendrogram(df):    \n",
    "    # Do correlation matrix\n",
    "    corr_matrix = df.corr()\n",
    "\n",
    "    # Do the clustering\n",
    "    Z = hac.linkage(corr_matrix, 'single')\n",
    "\n",
    "    # Plot dendogram\n",
    "    fig, ax = plt.subplots(figsize=(25, 10))\n",
    "    plt.title('Hierarchical Clustering Dendrogram')\n",
    "    plt.xlabel('sample index')\n",
    "    plt.ylabel('distance')\n",
    "    groups = hac.dendrogram(\n",
    "        Z,\n",
    "        leaf_rotation=90.,  # rotates the x axis labels\n",
    "        leaf_font_size=8., # font size for the x axis labels\n",
    "        color_threshold = 0#,\n",
    "        #truncate_mode='lastp',\n",
    "        #p=30\n",
    "    )\n",
    "\n",
    "    labels_dict = pd.DataFrame(df.columns).to_dict()[0]\n",
    "    actual_labels = [item.get_text() for item in ax.get_xticklabels()]\n",
    "    new_labels = [labels_dict[int(i)] for i in actual_labels]\n",
    "    ax.set_xticklabels(new_labels)\n",
    "    plt.tight_layout()\n",
    "\n",
    "def corr_drop(corr_m, factor=.9):\n",
    "    \n",
    "    global cm\n",
    "    cm = corr_m\n",
    "    # Get correlation score, as high as this score, more chances to be dropped.\n",
    "    cum_corr = cm.applymap(abs).sum()\n",
    "    def remove_corr():\n",
    "        global cm\n",
    "        for col in cm.columns:\n",
    "            for ind in cm.index:\n",
    "                if (ind in cm.columns) and (col in cm.index):\n",
    "                    # Compare if are high correlated.\n",
    "                    if (cm.loc[ind,col] > factor) and (ind!=col):\n",
    "                        cum = cum_corr[[ind,col]].sort_values(ascending=False)\n",
    "                        cm.drop(cum.index[0], axis=0, inplace=True)\n",
    "                        cm.drop(cum.index[0], axis=1, inplace=True)\n",
    "                        # Do recursion until the last high correlated.\n",
    "                        remove_corr()\n",
    "        return cm\n",
    "    return remove_corr()"
   ]
  },
  {
   "cell_type": "code",
   "execution_count": 15,
   "metadata": {},
   "outputs": [],
   "source": [
    "train_features = pd.read_csv('../input/aps-failure-at-scania-trucks-data-set/aps_failure_training_set_processed_8bit.csv', na_values='na')\n",
    "test_features =  pd.read_csv('../input/aps-failure-at-scania-trucks-data-set/aps_failure_test_set_processed_8bit.csv', na_values='na')\n",
    "\n",
    "train_labels = train_features['class']\n",
    "test_labels = test_features['class']\n",
    "train_features = train_features.drop('class', axis=1)\n",
    "test_features = test_features.drop('class', axis=1)"
   ]
  },
  {
   "cell_type": "code",
   "execution_count": 17,
   "metadata": {},
   "outputs": [
    {
     "data": {
      "text/html": [
       "<div>\n",
       "<style scoped>\n",
       "    .dataframe tbody tr th:only-of-type {\n",
       "        vertical-align: middle;\n",
       "    }\n",
       "\n",
       "    .dataframe tbody tr th {\n",
       "        vertical-align: top;\n",
       "    }\n",
       "\n",
       "    .dataframe thead th {\n",
       "        text-align: right;\n",
       "    }\n",
       "</style>\n",
       "<table border=\"1\" class=\"dataframe\">\n",
       "  <thead>\n",
       "    <tr style=\"text-align: right;\">\n",
       "      <th></th>\n",
       "      <th>aa_000</th>\n",
       "      <th>ab_000</th>\n",
       "      <th>ac_000</th>\n",
       "      <th>ad_000</th>\n",
       "      <th>ae_000</th>\n",
       "      <th>af_000</th>\n",
       "      <th>ag_000</th>\n",
       "      <th>ag_001</th>\n",
       "      <th>ag_002</th>\n",
       "      <th>ag_003</th>\n",
       "      <th>...</th>\n",
       "      <th>ee_002</th>\n",
       "      <th>ee_003</th>\n",
       "      <th>ee_004</th>\n",
       "      <th>ee_005</th>\n",
       "      <th>ee_006</th>\n",
       "      <th>ee_007</th>\n",
       "      <th>ee_008</th>\n",
       "      <th>ee_009</th>\n",
       "      <th>ef_000</th>\n",
       "      <th>eg_000</th>\n",
       "    </tr>\n",
       "  </thead>\n",
       "  <tbody>\n",
       "    <tr>\n",
       "      <th>count</th>\n",
       "      <td>60000.000000</td>\n",
       "      <td>60000.000000</td>\n",
       "      <td>60000.000000</td>\n",
       "      <td>60000.000000</td>\n",
       "      <td>60000.000000</td>\n",
       "      <td>60000.000000</td>\n",
       "      <td>60000.000000</td>\n",
       "      <td>60000.000000</td>\n",
       "      <td>60000.000000</td>\n",
       "      <td>60000.000000</td>\n",
       "      <td>...</td>\n",
       "      <td>60000.000000</td>\n",
       "      <td>60000.000000</td>\n",
       "      <td>60000.000000</td>\n",
       "      <td>60000.000000</td>\n",
       "      <td>60000.000000</td>\n",
       "      <td>60000.000000</td>\n",
       "      <td>60000.000000</td>\n",
       "      <td>60000.000000</td>\n",
       "      <td>60000.000000</td>\n",
       "      <td>60000.000000</td>\n",
       "    </tr>\n",
       "    <tr>\n",
       "      <th>mean</th>\n",
       "      <td>-0.124611</td>\n",
       "      <td>-0.071121</td>\n",
       "      <td>-0.198529</td>\n",
       "      <td>-0.007737</td>\n",
       "      <td>-0.033483</td>\n",
       "      <td>-0.040633</td>\n",
       "      <td>-0.006584</td>\n",
       "      <td>-0.026241</td>\n",
       "      <td>-0.040699</td>\n",
       "      <td>-0.074768</td>\n",
       "      <td>...</td>\n",
       "      <td>-0.104808</td>\n",
       "      <td>-0.098734</td>\n",
       "      <td>-0.094976</td>\n",
       "      <td>-0.089227</td>\n",
       "      <td>-0.103374</td>\n",
       "      <td>-0.088961</td>\n",
       "      <td>-0.084540</td>\n",
       "      <td>-0.067471</td>\n",
       "      <td>-0.020035</td>\n",
       "      <td>-0.018417</td>\n",
       "    </tr>\n",
       "    <tr>\n",
       "      <th>std</th>\n",
       "      <td>0.367680</td>\n",
       "      <td>0.356812</td>\n",
       "      <td>0.564872</td>\n",
       "      <td>0.004138</td>\n",
       "      <td>0.107086</td>\n",
       "      <td>0.111752</td>\n",
       "      <td>0.032016</td>\n",
       "      <td>0.065200</td>\n",
       "      <td>0.105864</td>\n",
       "      <td>0.186822</td>\n",
       "      <td>...</td>\n",
       "      <td>0.356547</td>\n",
       "      <td>0.362066</td>\n",
       "      <td>0.363148</td>\n",
       "      <td>0.336121</td>\n",
       "      <td>0.320314</td>\n",
       "      <td>0.237613</td>\n",
       "      <td>0.363893</td>\n",
       "      <td>0.261009</td>\n",
       "      <td>0.051907</td>\n",
       "      <td>0.061751</td>\n",
       "    </tr>\n",
       "    <tr>\n",
       "      <th>min</th>\n",
       "      <td>-0.406250</td>\n",
       "      <td>-0.289062</td>\n",
       "      <td>-0.468750</td>\n",
       "      <td>-0.007812</td>\n",
       "      <td>-0.046875</td>\n",
       "      <td>-0.054688</td>\n",
       "      <td>-0.007812</td>\n",
       "      <td>-0.031250</td>\n",
       "      <td>-0.054688</td>\n",
       "      <td>-0.117188</td>\n",
       "      <td>...</td>\n",
       "      <td>-0.382812</td>\n",
       "      <td>-0.382812</td>\n",
       "      <td>-0.382812</td>\n",
       "      <td>-0.351562</td>\n",
       "      <td>-0.312500</td>\n",
       "      <td>-0.195312</td>\n",
       "      <td>-0.304688</td>\n",
       "      <td>-0.171875</td>\n",
       "      <td>-0.023438</td>\n",
       "      <td>-0.023438</td>\n",
       "    </tr>\n",
       "    <tr>\n",
       "      <th>25%</th>\n",
       "      <td>-0.398438</td>\n",
       "      <td>-0.289062</td>\n",
       "      <td>-0.468750</td>\n",
       "      <td>-0.007812</td>\n",
       "      <td>-0.046875</td>\n",
       "      <td>-0.054688</td>\n",
       "      <td>-0.007812</td>\n",
       "      <td>-0.031250</td>\n",
       "      <td>-0.054688</td>\n",
       "      <td>-0.117188</td>\n",
       "      <td>...</td>\n",
       "      <td>-0.382812</td>\n",
       "      <td>-0.382812</td>\n",
       "      <td>-0.375000</td>\n",
       "      <td>-0.343750</td>\n",
       "      <td>-0.312500</td>\n",
       "      <td>-0.195312</td>\n",
       "      <td>-0.304688</td>\n",
       "      <td>-0.171875</td>\n",
       "      <td>-0.023438</td>\n",
       "      <td>-0.023438</td>\n",
       "    </tr>\n",
       "    <tr>\n",
       "      <th>50%</th>\n",
       "      <td>-0.195312</td>\n",
       "      <td>-0.289062</td>\n",
       "      <td>-0.468750</td>\n",
       "      <td>-0.007812</td>\n",
       "      <td>-0.046875</td>\n",
       "      <td>-0.054688</td>\n",
       "      <td>-0.007812</td>\n",
       "      <td>-0.031250</td>\n",
       "      <td>-0.054688</td>\n",
       "      <td>-0.117188</td>\n",
       "      <td>...</td>\n",
       "      <td>-0.179688</td>\n",
       "      <td>-0.179688</td>\n",
       "      <td>-0.195312</td>\n",
       "      <td>-0.179688</td>\n",
       "      <td>-0.226562</td>\n",
       "      <td>-0.171875</td>\n",
       "      <td>-0.296875</td>\n",
       "      <td>-0.171875</td>\n",
       "      <td>-0.023438</td>\n",
       "      <td>-0.023438</td>\n",
       "    </tr>\n",
       "    <tr>\n",
       "      <th>75%</th>\n",
       "      <td>-0.070312</td>\n",
       "      <td>-0.000000</td>\n",
       "      <td>-0.468750</td>\n",
       "      <td>-0.007812</td>\n",
       "      <td>-0.046875</td>\n",
       "      <td>-0.054688</td>\n",
       "      <td>-0.007812</td>\n",
       "      <td>-0.031250</td>\n",
       "      <td>-0.054688</td>\n",
       "      <td>-0.117188</td>\n",
       "      <td>...</td>\n",
       "      <td>-0.007812</td>\n",
       "      <td>0.015625</td>\n",
       "      <td>0.015625</td>\n",
       "      <td>0.007812</td>\n",
       "      <td>-0.054688</td>\n",
       "      <td>-0.101562</td>\n",
       "      <td>-0.000000</td>\n",
       "      <td>-0.132812</td>\n",
       "      <td>-0.023438</td>\n",
       "      <td>-0.023438</td>\n",
       "    </tr>\n",
       "    <tr>\n",
       "      <th>max</th>\n",
       "      <td>0.992188</td>\n",
       "      <td>0.992188</td>\n",
       "      <td>0.992188</td>\n",
       "      <td>0.992188</td>\n",
       "      <td>0.992188</td>\n",
       "      <td>0.992188</td>\n",
       "      <td>0.992188</td>\n",
       "      <td>0.992188</td>\n",
       "      <td>0.992188</td>\n",
       "      <td>0.992188</td>\n",
       "      <td>...</td>\n",
       "      <td>0.992188</td>\n",
       "      <td>0.992188</td>\n",
       "      <td>0.992188</td>\n",
       "      <td>0.992188</td>\n",
       "      <td>0.992188</td>\n",
       "      <td>0.992188</td>\n",
       "      <td>0.992188</td>\n",
       "      <td>0.992188</td>\n",
       "      <td>0.992188</td>\n",
       "      <td>0.992188</td>\n",
       "    </tr>\n",
       "  </tbody>\n",
       "</table>\n",
       "<p>8 rows × 170 columns</p>\n",
       "</div>"
      ],
      "text/plain": [
       "             aa_000        ab_000        ac_000        ad_000        ae_000  \\\n",
       "count  60000.000000  60000.000000  60000.000000  60000.000000  60000.000000   \n",
       "mean      -0.124611     -0.071121     -0.198529     -0.007737     -0.033483   \n",
       "std        0.367680      0.356812      0.564872      0.004138      0.107086   \n",
       "min       -0.406250     -0.289062     -0.468750     -0.007812     -0.046875   \n",
       "25%       -0.398438     -0.289062     -0.468750     -0.007812     -0.046875   \n",
       "50%       -0.195312     -0.289062     -0.468750     -0.007812     -0.046875   \n",
       "75%       -0.070312     -0.000000     -0.468750     -0.007812     -0.046875   \n",
       "max        0.992188      0.992188      0.992188      0.992188      0.992188   \n",
       "\n",
       "             af_000        ag_000        ag_001        ag_002        ag_003  \\\n",
       "count  60000.000000  60000.000000  60000.000000  60000.000000  60000.000000   \n",
       "mean      -0.040633     -0.006584     -0.026241     -0.040699     -0.074768   \n",
       "std        0.111752      0.032016      0.065200      0.105864      0.186822   \n",
       "min       -0.054688     -0.007812     -0.031250     -0.054688     -0.117188   \n",
       "25%       -0.054688     -0.007812     -0.031250     -0.054688     -0.117188   \n",
       "50%       -0.054688     -0.007812     -0.031250     -0.054688     -0.117188   \n",
       "75%       -0.054688     -0.007812     -0.031250     -0.054688     -0.117188   \n",
       "max        0.992188      0.992188      0.992188      0.992188      0.992188   \n",
       "\n",
       "       ...        ee_002        ee_003        ee_004        ee_005  \\\n",
       "count  ...  60000.000000  60000.000000  60000.000000  60000.000000   \n",
       "mean   ...     -0.104808     -0.098734     -0.094976     -0.089227   \n",
       "std    ...      0.356547      0.362066      0.363148      0.336121   \n",
       "min    ...     -0.382812     -0.382812     -0.382812     -0.351562   \n",
       "25%    ...     -0.382812     -0.382812     -0.375000     -0.343750   \n",
       "50%    ...     -0.179688     -0.179688     -0.195312     -0.179688   \n",
       "75%    ...     -0.007812      0.015625      0.015625      0.007812   \n",
       "max    ...      0.992188      0.992188      0.992188      0.992188   \n",
       "\n",
       "             ee_006        ee_007        ee_008        ee_009        ef_000  \\\n",
       "count  60000.000000  60000.000000  60000.000000  60000.000000  60000.000000   \n",
       "mean      -0.103374     -0.088961     -0.084540     -0.067471     -0.020035   \n",
       "std        0.320314      0.237613      0.363893      0.261009      0.051907   \n",
       "min       -0.312500     -0.195312     -0.304688     -0.171875     -0.023438   \n",
       "25%       -0.312500     -0.195312     -0.304688     -0.171875     -0.023438   \n",
       "50%       -0.226562     -0.171875     -0.296875     -0.171875     -0.023438   \n",
       "75%       -0.054688     -0.101562     -0.000000     -0.132812     -0.023438   \n",
       "max        0.992188      0.992188      0.992188      0.992188      0.992188   \n",
       "\n",
       "             eg_000  \n",
       "count  60000.000000  \n",
       "mean      -0.018417  \n",
       "std        0.061751  \n",
       "min       -0.023438  \n",
       "25%       -0.023438  \n",
       "50%       -0.023438  \n",
       "75%       -0.023438  \n",
       "max        0.992188  \n",
       "\n",
       "[8 rows x 170 columns]"
      ]
     },
     "execution_count": 17,
     "metadata": {},
     "output_type": "execute_result"
    }
   ],
   "source": [
    "train_features.describe()"
   ]
  },
  {
   "cell_type": "markdown",
   "metadata": {},
   "source": [
    "# Pre-processing"
   ]
  },
  {
   "cell_type": "markdown",
   "metadata": {},
   "source": [
    "Flat dataframe and check for non-valid values"
   ]
  },
  {
   "cell_type": "markdown",
   "metadata": {},
   "source": [
    "If doesn't exist, it is considered non-valid."
   ]
  },
  {
   "cell_type": "code",
   "execution_count": 18,
   "metadata": {},
   "outputs": [
    {
     "name": "stdout",
     "output_type": "stream",
     "text": [
      "0% of data are non-valid.\n"
     ]
    }
   ],
   "source": [
    "flat_data = train_features.values.flatten()\n",
    "count=0\n",
    "for value in flat_data:\n",
    "    if value is not None:\n",
    "        continue\n",
    "    count+= 1\n",
    "pct_nan = round(100*count/len(flat_data))\n",
    "print(f'{pct_nan}% of data are non-valid.')"
   ]
  },
  {
   "cell_type": "code",
   "execution_count": 19,
   "metadata": {},
   "outputs": [],
   "source": [
    "from sklearn.preprocessing import MinMaxScaler\n",
    "if enable_normalization and normalization_type=='minmax':\n",
    "    scaler = MinMaxScaler()\n",
    "    scaler.fit(train_features)\n",
    "    train_features = pd.DataFrame(scaler.transform(train_features), columns=train_features.columns)"
   ]
  },
  {
   "cell_type": "code",
   "execution_count": 20,
   "metadata": {},
   "outputs": [
    {
     "data": {
      "text/html": [
       "<div>\n",
       "<style scoped>\n",
       "    .dataframe tbody tr th:only-of-type {\n",
       "        vertical-align: middle;\n",
       "    }\n",
       "\n",
       "    .dataframe tbody tr th {\n",
       "        vertical-align: top;\n",
       "    }\n",
       "\n",
       "    .dataframe thead th {\n",
       "        text-align: right;\n",
       "    }\n",
       "</style>\n",
       "<table border=\"1\" class=\"dataframe\">\n",
       "  <thead>\n",
       "    <tr style=\"text-align: right;\">\n",
       "      <th></th>\n",
       "      <th>aa_000</th>\n",
       "      <th>ab_000</th>\n",
       "      <th>ac_000</th>\n",
       "      <th>ad_000</th>\n",
       "      <th>ae_000</th>\n",
       "      <th>af_000</th>\n",
       "      <th>ag_000</th>\n",
       "      <th>ag_001</th>\n",
       "      <th>ag_002</th>\n",
       "      <th>ag_003</th>\n",
       "      <th>...</th>\n",
       "      <th>ee_002</th>\n",
       "      <th>ee_003</th>\n",
       "      <th>ee_004</th>\n",
       "      <th>ee_005</th>\n",
       "      <th>ee_006</th>\n",
       "      <th>ee_007</th>\n",
       "      <th>ee_008</th>\n",
       "      <th>ee_009</th>\n",
       "      <th>ef_000</th>\n",
       "      <th>eg_000</th>\n",
       "    </tr>\n",
       "  </thead>\n",
       "  <tbody>\n",
       "    <tr>\n",
       "      <th>count</th>\n",
       "      <td>60000.000000</td>\n",
       "      <td>60000.000000</td>\n",
       "      <td>60000.000000</td>\n",
       "      <td>60000.000000</td>\n",
       "      <td>60000.000000</td>\n",
       "      <td>60000.000000</td>\n",
       "      <td>60000.000000</td>\n",
       "      <td>60000.000000</td>\n",
       "      <td>60000.000000</td>\n",
       "      <td>60000.000000</td>\n",
       "      <td>...</td>\n",
       "      <td>60000.000000</td>\n",
       "      <td>60000.000000</td>\n",
       "      <td>60000.000000</td>\n",
       "      <td>60000.000000</td>\n",
       "      <td>60000.000000</td>\n",
       "      <td>60000.000000</td>\n",
       "      <td>60000.000000</td>\n",
       "      <td>60000.000000</td>\n",
       "      <td>60000.000000</td>\n",
       "      <td>60000.000000</td>\n",
       "    </tr>\n",
       "    <tr>\n",
       "      <th>mean</th>\n",
       "      <td>0.201396</td>\n",
       "      <td>0.170101</td>\n",
       "      <td>0.184964</td>\n",
       "      <td>0.000076</td>\n",
       "      <td>0.012888</td>\n",
       "      <td>0.013425</td>\n",
       "      <td>0.001228</td>\n",
       "      <td>0.004894</td>\n",
       "      <td>0.013362</td>\n",
       "      <td>0.038237</td>\n",
       "      <td>...</td>\n",
       "      <td>0.202185</td>\n",
       "      <td>0.206603</td>\n",
       "      <td>0.209336</td>\n",
       "      <td>0.195227</td>\n",
       "      <td>0.160288</td>\n",
       "      <td>0.089559</td>\n",
       "      <td>0.169752</td>\n",
       "      <td>0.089689</td>\n",
       "      <td>0.003350</td>\n",
       "      <td>0.004943</td>\n",
       "    </tr>\n",
       "    <tr>\n",
       "      <th>std</th>\n",
       "      <td>0.262922</td>\n",
       "      <td>0.278488</td>\n",
       "      <td>0.386650</td>\n",
       "      <td>0.004138</td>\n",
       "      <td>0.103060</td>\n",
       "      <td>0.106749</td>\n",
       "      <td>0.032016</td>\n",
       "      <td>0.063707</td>\n",
       "      <td>0.101124</td>\n",
       "      <td>0.168403</td>\n",
       "      <td>...</td>\n",
       "      <td>0.259307</td>\n",
       "      <td>0.263321</td>\n",
       "      <td>0.264107</td>\n",
       "      <td>0.250137</td>\n",
       "      <td>0.245510</td>\n",
       "      <td>0.200095</td>\n",
       "      <td>0.280592</td>\n",
       "      <td>0.224222</td>\n",
       "      <td>0.051108</td>\n",
       "      <td>0.060801</td>\n",
       "    </tr>\n",
       "    <tr>\n",
       "      <th>min</th>\n",
       "      <td>0.000000</td>\n",
       "      <td>0.000000</td>\n",
       "      <td>0.000000</td>\n",
       "      <td>0.000000</td>\n",
       "      <td>0.000000</td>\n",
       "      <td>0.000000</td>\n",
       "      <td>0.000000</td>\n",
       "      <td>0.000000</td>\n",
       "      <td>0.000000</td>\n",
       "      <td>0.000000</td>\n",
       "      <td>...</td>\n",
       "      <td>0.000000</td>\n",
       "      <td>0.000000</td>\n",
       "      <td>0.000000</td>\n",
       "      <td>0.000000</td>\n",
       "      <td>0.000000</td>\n",
       "      <td>0.000000</td>\n",
       "      <td>0.000000</td>\n",
       "      <td>0.000000</td>\n",
       "      <td>0.000000</td>\n",
       "      <td>0.000000</td>\n",
       "    </tr>\n",
       "    <tr>\n",
       "      <th>25%</th>\n",
       "      <td>0.005587</td>\n",
       "      <td>0.000000</td>\n",
       "      <td>0.000000</td>\n",
       "      <td>0.000000</td>\n",
       "      <td>0.000000</td>\n",
       "      <td>0.000000</td>\n",
       "      <td>0.000000</td>\n",
       "      <td>0.000000</td>\n",
       "      <td>0.000000</td>\n",
       "      <td>0.000000</td>\n",
       "      <td>...</td>\n",
       "      <td>0.000000</td>\n",
       "      <td>0.000000</td>\n",
       "      <td>0.005682</td>\n",
       "      <td>0.005814</td>\n",
       "      <td>0.000000</td>\n",
       "      <td>0.000000</td>\n",
       "      <td>0.000000</td>\n",
       "      <td>0.000000</td>\n",
       "      <td>0.000000</td>\n",
       "      <td>0.000000</td>\n",
       "    </tr>\n",
       "    <tr>\n",
       "      <th>50%</th>\n",
       "      <td>0.150838</td>\n",
       "      <td>0.000000</td>\n",
       "      <td>0.000000</td>\n",
       "      <td>0.000000</td>\n",
       "      <td>0.000000</td>\n",
       "      <td>0.000000</td>\n",
       "      <td>0.000000</td>\n",
       "      <td>0.000000</td>\n",
       "      <td>0.000000</td>\n",
       "      <td>0.000000</td>\n",
       "      <td>...</td>\n",
       "      <td>0.147727</td>\n",
       "      <td>0.147727</td>\n",
       "      <td>0.136364</td>\n",
       "      <td>0.127907</td>\n",
       "      <td>0.065868</td>\n",
       "      <td>0.019737</td>\n",
       "      <td>0.006024</td>\n",
       "      <td>0.000000</td>\n",
       "      <td>0.000000</td>\n",
       "      <td>0.000000</td>\n",
       "    </tr>\n",
       "    <tr>\n",
       "      <th>75%</th>\n",
       "      <td>0.240223</td>\n",
       "      <td>0.225610</td>\n",
       "      <td>0.000000</td>\n",
       "      <td>0.000000</td>\n",
       "      <td>0.000000</td>\n",
       "      <td>0.000000</td>\n",
       "      <td>0.000000</td>\n",
       "      <td>0.000000</td>\n",
       "      <td>0.000000</td>\n",
       "      <td>0.000000</td>\n",
       "      <td>...</td>\n",
       "      <td>0.272727</td>\n",
       "      <td>0.289773</td>\n",
       "      <td>0.289773</td>\n",
       "      <td>0.267442</td>\n",
       "      <td>0.197605</td>\n",
       "      <td>0.078947</td>\n",
       "      <td>0.234940</td>\n",
       "      <td>0.033557</td>\n",
       "      <td>0.000000</td>\n",
       "      <td>0.000000</td>\n",
       "    </tr>\n",
       "    <tr>\n",
       "      <th>max</th>\n",
       "      <td>1.000000</td>\n",
       "      <td>1.000000</td>\n",
       "      <td>1.000000</td>\n",
       "      <td>1.000000</td>\n",
       "      <td>1.000000</td>\n",
       "      <td>1.000000</td>\n",
       "      <td>1.000000</td>\n",
       "      <td>1.000000</td>\n",
       "      <td>1.000000</td>\n",
       "      <td>1.000000</td>\n",
       "      <td>...</td>\n",
       "      <td>1.000000</td>\n",
       "      <td>1.000000</td>\n",
       "      <td>1.000000</td>\n",
       "      <td>1.000000</td>\n",
       "      <td>1.000000</td>\n",
       "      <td>1.000000</td>\n",
       "      <td>1.000000</td>\n",
       "      <td>1.000000</td>\n",
       "      <td>1.000000</td>\n",
       "      <td>1.000000</td>\n",
       "    </tr>\n",
       "  </tbody>\n",
       "</table>\n",
       "<p>8 rows × 170 columns</p>\n",
       "</div>"
      ],
      "text/plain": [
       "             aa_000        ab_000        ac_000        ad_000        ae_000  \\\n",
       "count  60000.000000  60000.000000  60000.000000  60000.000000  60000.000000   \n",
       "mean       0.201396      0.170101      0.184964      0.000076      0.012888   \n",
       "std        0.262922      0.278488      0.386650      0.004138      0.103060   \n",
       "min        0.000000      0.000000      0.000000      0.000000      0.000000   \n",
       "25%        0.005587      0.000000      0.000000      0.000000      0.000000   \n",
       "50%        0.150838      0.000000      0.000000      0.000000      0.000000   \n",
       "75%        0.240223      0.225610      0.000000      0.000000      0.000000   \n",
       "max        1.000000      1.000000      1.000000      1.000000      1.000000   \n",
       "\n",
       "             af_000        ag_000        ag_001        ag_002        ag_003  \\\n",
       "count  60000.000000  60000.000000  60000.000000  60000.000000  60000.000000   \n",
       "mean       0.013425      0.001228      0.004894      0.013362      0.038237   \n",
       "std        0.106749      0.032016      0.063707      0.101124      0.168403   \n",
       "min        0.000000      0.000000      0.000000      0.000000      0.000000   \n",
       "25%        0.000000      0.000000      0.000000      0.000000      0.000000   \n",
       "50%        0.000000      0.000000      0.000000      0.000000      0.000000   \n",
       "75%        0.000000      0.000000      0.000000      0.000000      0.000000   \n",
       "max        1.000000      1.000000      1.000000      1.000000      1.000000   \n",
       "\n",
       "       ...        ee_002        ee_003        ee_004        ee_005  \\\n",
       "count  ...  60000.000000  60000.000000  60000.000000  60000.000000   \n",
       "mean   ...      0.202185      0.206603      0.209336      0.195227   \n",
       "std    ...      0.259307      0.263321      0.264107      0.250137   \n",
       "min    ...      0.000000      0.000000      0.000000      0.000000   \n",
       "25%    ...      0.000000      0.000000      0.005682      0.005814   \n",
       "50%    ...      0.147727      0.147727      0.136364      0.127907   \n",
       "75%    ...      0.272727      0.289773      0.289773      0.267442   \n",
       "max    ...      1.000000      1.000000      1.000000      1.000000   \n",
       "\n",
       "             ee_006        ee_007        ee_008        ee_009        ef_000  \\\n",
       "count  60000.000000  60000.000000  60000.000000  60000.000000  60000.000000   \n",
       "mean       0.160288      0.089559      0.169752      0.089689      0.003350   \n",
       "std        0.245510      0.200095      0.280592      0.224222      0.051108   \n",
       "min        0.000000      0.000000      0.000000      0.000000      0.000000   \n",
       "25%        0.000000      0.000000      0.000000      0.000000      0.000000   \n",
       "50%        0.065868      0.019737      0.006024      0.000000      0.000000   \n",
       "75%        0.197605      0.078947      0.234940      0.033557      0.000000   \n",
       "max        1.000000      1.000000      1.000000      1.000000      1.000000   \n",
       "\n",
       "             eg_000  \n",
       "count  60000.000000  \n",
       "mean       0.004943  \n",
       "std        0.060801  \n",
       "min        0.000000  \n",
       "25%        0.000000  \n",
       "50%        0.000000  \n",
       "75%        0.000000  \n",
       "max        1.000000  \n",
       "\n",
       "[8 rows x 170 columns]"
      ]
     },
     "execution_count": 20,
     "metadata": {},
     "output_type": "execute_result"
    }
   ],
   "source": [
    "train_features.describe()"
   ]
  },
  {
   "cell_type": "code",
   "execution_count": 21,
   "metadata": {},
   "outputs": [],
   "source": [
    "train_labels = train_labels.apply(round)\n",
    "train_labels = train_labels.replace({-1:0})"
   ]
  },
  {
   "cell_type": "code",
   "execution_count": 22,
   "metadata": {},
   "outputs": [
    {
     "data": {
      "image/png": "[encoded data removed]",
      "text/plain": [
       "<Figure size 720x504 with 1 Axes>"
      ]
     },
     "metadata": {
      "needs_background": "light"
     },
     "output_type": "display_data"
    }
   ],
   "source": [
    "bar(train_labels.value_counts())\n",
    "plt.show()"
   ]
  },
  {
   "cell_type": "code",
   "execution_count": 23,
   "metadata": {},
   "outputs": [],
   "source": [
    "if enable_correlation and enable_dendrogram:\n",
    "    corr_matrix = train_features.corr()\n",
    "    dendrogram(corr_matrix)\n",
    "    plt.tight_layout()"
   ]
  },
  {
   "cell_type": "code",
   "execution_count": 24,
   "metadata": {},
   "outputs": [],
   "source": [
    "if enable_correlation and enable_heatmap:\n",
    "    fig, ax = plt.subplots(figsize=(10,10))\n",
    "    ax = sns.heatmap(corr_matrix, square=True, cmap='Purples', ax=ax)\n",
    "    plt.tight_layout()\n",
    "    plt.show()"
   ]
  },
  {
   "cell_type": "code",
   "execution_count": 25,
   "metadata": {},
   "outputs": [],
   "source": [
    "# to enable run correlation selection without univariate selection.\n",
    "best_train_features = train_features \n",
    "new_corr_matrix = best_train_features.corr()"
   ]
  },
  {
   "cell_type": "code",
   "execution_count": 26,
   "metadata": {},
   "outputs": [],
   "source": [
    "if enable_univariate_selec:\n",
    "    if method_selec=='selectkbest':\n",
    "        selectKBest = SelectKBest(chi2, k_best)\n",
    "        selectKBest.fit(train_features, train_labels)\n",
    "        best_train_features = selectKBest.transform(train_features)\n",
    "\n",
    "        idxs_selected = selectKBest.get_support(indices=True)\n",
    "        best_train_features = train_features.iloc[:,idxs_selected]"
   ]
  },
  {
   "cell_type": "code",
   "execution_count": 27,
   "metadata": {},
   "outputs": [
    {
     "name": "stdout",
     "output_type": "stream",
     "text": [
      "Index(['aa_000', 'ag_001', 'ag_002', 'ag_003', 'ag_004', 'ag_005', 'ah_000',\n",
      "       'ai_000', 'al_000', 'am_0', 'an_000', 'ao_000', 'ap_000', 'aq_000',\n",
      "       'ar_000', 'ay_001', 'ay_002', 'ay_003', 'ay_004', 'ay_007', 'ay_008',\n",
      "       'ay_009', 'az_000', 'az_001', 'az_002', 'az_005', 'ba_000', 'ba_001',\n",
      "       'ba_002', 'ba_003', 'ba_004', 'ba_005', 'ba_006', 'ba_008', 'ba_009',\n",
      "       'bb_000', 'bc_000', 'bd_000', 'be_000', 'bf_000', 'bg_000', 'bh_000',\n",
      "       'bi_000', 'bj_000', 'bt_000', 'bu_000', 'bv_000', 'bx_000', 'by_000',\n",
      "       'cc_000', 'ci_000', 'cj_000', 'ck_000', 'cl_000', 'cm_000', 'cn_000',\n",
      "       'cn_001', 'cn_002', 'cn_003', 'cn_004', 'cn_007', 'cn_008', 'cn_009',\n",
      "       'cq_000', 'cs_001', 'cs_002', 'cs_003', 'cs_004', 'cs_005', 'cx_000',\n",
      "       'dd_000', 'df_000', 'dn_000', 'dq_000', 'eb_000', 'ec_00', 'ee_000',\n",
      "       'ee_001', 'ee_002', 'ee_003', 'ee_004', 'ee_005', 'ee_006', 'ee_007'],\n",
      "      dtype='object')\n"
     ]
    }
   ],
   "source": [
    "if enable_univariate_selec:\n",
    "    if method_selec=='selectkbest':\n",
    "        print(best_train_features.columns) # selected columns"
   ]
  },
  {
   "cell_type": "code",
   "execution_count": 28,
   "metadata": {},
   "outputs": [],
   "source": [
    "if enable_univariate_selec:\n",
    "    if method_selec=='selectkbest':\n",
    "        best_train_features.describe()"
   ]
  },
  {
   "cell_type": "code",
   "execution_count": 29,
   "metadata": {},
   "outputs": [
    {
     "data": {
      "image/png": "[encoded data removed]",
      "text/plain": [
       "<Figure size 1800x720 with 1 Axes>"
      ]
     },
     "metadata": {
      "needs_background": "light"
     },
     "output_type": "display_data"
    }
   ],
   "source": [
    "if enable_univariate_selec:\n",
    "    if method_selec=='selectkbest':\n",
    "        new_corr_matrix = best_train_features.corr()\n",
    "        dendrogram(new_corr_matrix)\n",
    "        plt.tight_layout()"
   ]
  },
  {
   "cell_type": "code",
   "execution_count": 30,
   "metadata": {},
   "outputs": [],
   "source": [
    "if enable_correlation_selec:\n",
    "    new_new_corr_matrix = corr_drop(new_corr_matrix, factor)\n",
    "    print(f'Number of features selected is {len(new_new_corr_matrix.columns)}.')"
   ]
  },
  {
   "cell_type": "code",
   "execution_count": 31,
   "metadata": {},
   "outputs": [],
   "source": [
    "if enable_correlation_selec:\n",
    "    dendrogram(new_new_corr_matrix)\n",
    "    plt.tight_layout()"
   ]
  },
  {
   "cell_type": "code",
   "execution_count": 32,
   "metadata": {},
   "outputs": [],
   "source": [
    "if enable_correlation_selec:\n",
    "    fig, ax = plt.subplots(figsize=(10,10))\n",
    "    ax = sns.heatmap(new_new_corr_matrix, square=True, cmap='Purples', ax=ax)\n",
    "    plt.tight_layout()\n",
    "    plt.show()"
   ]
  },
  {
   "cell_type": "code",
   "execution_count": 33,
   "metadata": {},
   "outputs": [],
   "source": [
    "if enable_correlation_selec:\n",
    "    best_train_features = best_train_features.loc[:,new_new_corr_matrix.columns]"
   ]
  },
  {
   "cell_type": "code",
   "execution_count": 34,
   "metadata": {},
   "outputs": [],
   "source": [
    "if method_selec=='pca':\n",
    "    pca = PCA(pca_variance)\n",
    "    pca.fit(train_features)\n",
    "    best_train_features = pca.transform(train_features)\n",
    "    best_train_features = pd.DataFrame(best_train_features)"
   ]
  },
  {
   "cell_type": "code",
   "execution_count": 35,
   "metadata": {},
   "outputs": [],
   "source": [
    "if method_selec=='pca':\n",
    "    print('Number of components {pca.n_components_}')"
   ]
  },
  {
   "cell_type": "code",
   "execution_count": 36,
   "metadata": {},
   "outputs": [],
   "source": [
    "# to enable run without balancing\n",
    "best_train_features_balanced = best_train_features\n",
    "train_labels_balanced = train_labels"
   ]
  },
  {
   "cell_type": "code",
   "execution_count": 37,
   "metadata": {},
   "outputs": [
    {
     "name": "stdout",
     "output_type": "stream",
     "text": [
      "Proportion balanced: 2/1\n"
     ]
    }
   ],
   "source": [
    "if enable_balancing:\n",
    "    idxs_pos = train_labels[train_labels==1].index\n",
    "    idxs_neg = train_labels[train_labels==0].sample(n=number_samples, replace=False, random_state=0).index\n",
    "    idxs_balanced = np.concatenate((idxs_pos,idxs_neg))\n",
    "    best_train_features_balanced = best_train_features.loc[idxs_balanced]\n",
    "    train_labels_balanced = train_labels.loc[idxs_balanced]\n",
    "    print(f'Proportion balanced: {int(number_samples/1000)}/1')"
   ]
  },
  {
   "cell_type": "code",
   "execution_count": 38,
   "metadata": {},
   "outputs": [],
   "source": [
    "if ml_method=='gradientboosting':\n",
    "    gbc = GradientBoostingClassifier(loss=gbc_loss, random_state=0)\n",
    "    if not enable_cv:\n",
    "        gbc.fit(best_train_features_balanced, train_labels_balanced)"
   ]
  },
  {
   "cell_type": "code",
   "execution_count": 39,
   "metadata": {},
   "outputs": [],
   "source": [
    "if ml_method=='gradientboosting' and enable_cv:\n",
    "    #Seleciona os parâmetros do GB que deseja testar\n",
    "    params = [{'loss': ['deviance', 'exponential']}]\n",
    "    \n",
    "    #Executa grid search com cross validation\n",
    "    gbcc = GridSearchCV(gbc, params, cv=5, scoring='recall', verbose=10, n_jobs=3)\n",
    "    gbcc.fit(best_train_features_balanced, train_labels_balanced)\n",
    "    gbc = gbcc"
   ]
  },
  {
   "cell_type": "code",
   "execution_count": 40,
   "metadata": {},
   "outputs": [],
   "source": [
    "if ml_method=='gradientboosting':\n",
    "    display(gbc)"
   ]
  },
  {
   "cell_type": "code",
   "execution_count": 41,
   "metadata": {},
   "outputs": [
    {
     "name": "stdout",
     "output_type": "stream",
     "text": [
      "RandomForestRegressor(bootstrap=True, criterion='mse', max_depth=None,\n",
      "                      max_features='auto', max_leaf_nodes=None,\n",
      "                      min_impurity_decrease=0.0, min_impurity_split=None,\n",
      "                      min_samples_leaf=1, min_samples_split=2,\n",
      "                      min_weight_fraction_leaf=0.0, n_estimators=100, n_jobs=3,\n",
      "                      oob_score=True, random_state=0, verbose=0,\n",
      "                      warm_start=False)\n"
     ]
    }
   ],
   "source": [
    "if ml_method=='randomforestreg':\n",
    "    rfc = RandomForestRegressor(n_estimators=100, oob_score = True, random_state=0, n_jobs=3)\n",
    "    rfc.fit(best_train_features_balanced, train_labels_balanced)\n",
    "    print(rfc)"
   ]
  },
  {
   "cell_type": "code",
   "execution_count": 42,
   "metadata": {},
   "outputs": [],
   "source": [
    "if ml_method=='randomforest':\n",
    "    rfc = RandomForestClassifier(criterion=rfc_criterion, random_state=0)\n",
    "    if not enable_cv:\n",
    "        rfc.fit(best_train_features_balanced, train_labels_balanced)\n",
    "    "
   ]
  },
  {
   "cell_type": "code",
   "execution_count": 43,
   "metadata": {},
   "outputs": [],
   "source": [
    "if ml_method=='randomforest' and enable_cv:\n",
    "    #Seleciona os parâmetros do GB que deseja testar\n",
    "    params = [{'criterion': ['gini', 'entropy'], 'max_features': ['sqrt', 'log2'], 'n_estimators': [10, 100]}]\n",
    "    rfc = RandomForestClassifier(random_state=0)\n",
    "    #Executa grid search com cross validation\n",
    "    rfcc = GridSearchCV(rfc, params, cv=5, scoring='recall', verbose=10, n_jobs=3)\n",
    "    rfcc.fit(best_train_features_balanced, train_labels_balanced)\n",
    "    rfc = rfcc"
   ]
  },
  {
   "cell_type": "code",
   "execution_count": 44,
   "metadata": {},
   "outputs": [],
   "source": [
    "if ml_method=='randomforest':\n",
    "    display(rfcc)"
   ]
  },
  {
   "cell_type": "code",
   "execution_count": 45,
   "metadata": {},
   "outputs": [],
   "source": [
    "if ml_method=='svm':\n",
    "    #Seleciona os parâmetros da SVM que deseja testar\n",
    "    params = [{'kernel': ['rbf'], 'gamma': [0.01], 'C': [0.001, 0.01, 0.1, 1, 10]}, \n",
    "              {'kernel': ['linear'], 'gamma': [0.01],  'C':  [0.001, 0.01, 0.1, 1, 10]}\n",
    "             ]"
   ]
  },
  {
   "cell_type": "code",
   "execution_count": 46,
   "metadata": {},
   "outputs": [],
   "source": [
    "best_test_features = test_features  "
   ]
  },
  {
   "cell_type": "code",
   "execution_count": 47,
   "metadata": {},
   "outputs": [],
   "source": [
    "if enable_normalization:\n",
    "    scaler.transform(best_test_features)\n",
    "    best_test_features = pd.DataFrame(scaler.transform(best_test_features), columns=best_test_features.columns)"
   ]
  },
  {
   "cell_type": "code",
   "execution_count": 48,
   "metadata": {},
   "outputs": [],
   "source": [
    "if enable_univariate_selec:\n",
    "    if method_selec=='selectkbest':        \n",
    "        X = selectKBest.transform(best_test_features)\n",
    "        idxs_selected = selectKBest.get_support(indices=True)\n",
    "        best_test_features = best_test_features.iloc[:,idxs_selected]\n",
    "    if method_selec=='pca':        \n",
    "        best_test_features = pca.transform(best_test_features)\n",
    "if enable_correlation_selec:\n",
    "    best_test_features = best_test_features.loc[:,new_new_corr_matrix.columns]"
   ]
  },
  {
   "cell_type": "code",
   "execution_count": 49,
   "metadata": {},
   "outputs": [],
   "source": [
    "test_labels = test_labels.apply(round)\n",
    "test_labels = test_labels.replace({-1:0})"
   ]
  },
  {
   "cell_type": "code",
   "execution_count": 50,
   "metadata": {},
   "outputs": [],
   "source": [
    "if ml_method=='gradientboosting':\n",
    "    y_pred = gbc.predict(best_test_features)\n",
    "    report = classification_report(test_labels, y_pred)\n",
    "    print(report)"
   ]
  },
  {
   "cell_type": "code",
   "execution_count": 51,
   "metadata": {},
   "outputs": [
    {
     "name": "stdout",
     "output_type": "stream",
     "text": [
      "              precision    recall  f1-score   support\n",
      "\n",
      "           0       1.00      0.96      0.98     15625\n",
      "           1       0.40      0.98      0.57       375\n",
      "\n",
      "    accuracy                           0.97     16000\n",
      "   macro avg       0.70      0.97      0.78     16000\n",
      "weighted avg       0.99      0.97      0.97     16000\n",
      "\n"
     ]
    }
   ],
   "source": [
    "if ml_method=='randomforestreg':\n",
    "    y_pred = rfc.predict(best_test_features)\n",
    "    y_pred = np.round(y_pred)\n",
    "    report = classification_report(test_labels, y_pred)\n",
    "    print(report)"
   ]
  },
  {
   "cell_type": "code",
   "execution_count": 52,
   "metadata": {},
   "outputs": [],
   "source": [
    "if ml_method=='randomforest':\n",
    "    y_pred = rfc.predict(best_test_features)\n",
    "    report = classification_report(test_labels, y_pred)\n",
    "    print(report)"
   ]
  },
  {
   "cell_type": "code",
   "execution_count": 53,
   "metadata": {},
   "outputs": [],
   "source": [
    "if ml_method=='svm':\n",
    "    y_pred = svmc.predict(best_test_features)\n",
    "    report = classification_report(test_labels, y_pred)\n",
    "    print(report)"
   ]
  },
  {
   "cell_type": "code",
   "execution_count": 54,
   "metadata": {},
   "outputs": [
    {
     "data": {
      "text/html": [
       "<div>\n",
       "<style scoped>\n",
       "    .dataframe tbody tr th:only-of-type {\n",
       "        vertical-align: middle;\n",
       "    }\n",
       "\n",
       "    .dataframe tbody tr th {\n",
       "        vertical-align: top;\n",
       "    }\n",
       "\n",
       "    .dataframe thead th {\n",
       "        text-align: right;\n",
       "    }\n",
       "</style>\n",
       "<table border=\"1\" class=\"dataframe\">\n",
       "  <thead>\n",
       "    <tr style=\"text-align: right;\">\n",
       "      <th></th>\n",
       "      <th>tn</th>\n",
       "      <th>fp</th>\n",
       "      <th>fn</th>\n",
       "      <th>tp</th>\n",
       "    </tr>\n",
       "  </thead>\n",
       "  <tbody>\n",
       "    <tr>\n",
       "      <th>0</th>\n",
       "      <td>15073</td>\n",
       "      <td>552</td>\n",
       "      <td>7</td>\n",
       "      <td>368</td>\n",
       "    </tr>\n",
       "  </tbody>\n",
       "</table>\n",
       "</div>"
      ],
      "text/plain": [
       "      tn   fp  fn   tp\n",
       "0  15073  552   7  368"
      ]
     },
     "metadata": {},
     "output_type": "display_data"
    }
   ],
   "source": [
    "cm = confusion_matrix(test_labels, y_pred).ravel()\n",
    "cm = pd.DataFrame(cm.reshape((1,4)), columns=['tn', 'fp', 'fn', 'tp'])\n",
    "display(cm)"
   ]
  },
  {
   "cell_type": "code",
   "execution_count": 55,
   "metadata": {},
   "outputs": [
    {
     "data": {
      "text/markdown": [
       "Total cost is: \n",
       "# <p><span style=\"color:purple\">$9020.0</span></p>"
      ],
      "text/plain": [
       "<IPython.core.display.Markdown object>"
      ]
     },
     "metadata": {},
     "output_type": "display_data"
    }
   ],
   "source": [
    "total_cost = 10*cm.fp + 500*cm.fn\n",
    "def printmd(string):\n",
    "    display(Markdown(string))\n",
    "printmd(f'Total cost is: \\n# <p><span style=\"color:purple\">${float(total_cost.values[0])}</span></p>')"
   ]
  },
  {
   "cell_type": "code",
   "execution_count": null,
   "metadata": {},
   "outputs": [],
   "source": []
  }
 ],
 "metadata": {
  "kernelspec": {
   "display_name": "Python 3",
   "language": "python",
   "name": "python3"
  },
  "language_info": {
   "codemirror_mode": {
    "name": "ipython",
    "version": 3
   },
   "file_extension": ".py",
   "mimetype": "text/x-python",
   "name": "python",
   "nbconvert_exporter": "python",
   "pygments_lexer": "ipython3",
   "version": "3.7.3"
  }
 },
 "nbformat": 4,
 "nbformat_minor": 2
}
